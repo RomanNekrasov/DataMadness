{
 "cells": [
  {
   "cell_type": "code",
   "execution_count": 1,
   "metadata": {},
   "outputs": [],
   "source": [
    "# imports and setup \n",
    "import pandas as pd\n",
    "import scipy as sc\n",
    "import numpy as np\n",
    "\n",
    "import seaborn as sns\n",
    "\n",
    "#%matplotlib notebook\n",
    "import matplotlib.pyplot as plt \n",
    "plt.style.use('ggplot')\n",
    "%matplotlib inline  \n",
    "plt.rcParams['figure.figsize'] = (10, 6) "
   ]
  },
  {
   "cell_type": "markdown",
   "metadata": {},
   "source": [
    "### Import data"
   ]
  },
  {
   "cell_type": "code",
   "execution_count": 2,
   "metadata": {},
   "outputs": [
    {
     "name": "stdout",
     "output_type": "stream",
     "text": [
      "(49028, 22)\n"
     ]
    },
    {
     "data": {
      "text/html": [
       "<div>\n",
       "<style scoped>\n",
       "    .dataframe tbody tr th:only-of-type {\n",
       "        vertical-align: middle;\n",
       "    }\n",
       "\n",
       "    .dataframe tbody tr th {\n",
       "        vertical-align: top;\n",
       "    }\n",
       "\n",
       "    .dataframe thead th {\n",
       "        text-align: right;\n",
       "    }\n",
       "</style>\n",
       "<table border=\"1\" class=\"dataframe\">\n",
       "  <thead>\n",
       "    <tr style=\"text-align: right;\">\n",
       "      <th></th>\n",
       "      <th>Status</th>\n",
       "      <th>Target date</th>\n",
       "      <th>Closed</th>\n",
       "      <th>Category</th>\n",
       "      <th>Subcategory</th>\n",
       "      <th>Call Type</th>\n",
       "      <th>Department</th>\n",
       "      <th>Call Date</th>\n",
       "      <th>Number of days current</th>\n",
       "      <th>Department.1</th>\n",
       "      <th>...</th>\n",
       "      <th>Time spent for Second Line</th>\n",
       "      <th>Date/time of creation</th>\n",
       "      <th>Date/time of change</th>\n",
       "      <th>Closure Date</th>\n",
       "      <th>Completion Date</th>\n",
       "      <th>Duration</th>\n",
       "      <th>Actual duration</th>\n",
       "      <th>Escalated</th>\n",
       "      <th>Major call</th>\n",
       "      <th>Entry</th>\n",
       "    </tr>\n",
       "    <tr>\n",
       "      <th>Line</th>\n",
       "      <th></th>\n",
       "      <th></th>\n",
       "      <th></th>\n",
       "      <th></th>\n",
       "      <th></th>\n",
       "      <th></th>\n",
       "      <th></th>\n",
       "      <th></th>\n",
       "      <th></th>\n",
       "      <th></th>\n",
       "      <th></th>\n",
       "      <th></th>\n",
       "      <th></th>\n",
       "      <th></th>\n",
       "      <th></th>\n",
       "      <th></th>\n",
       "      <th></th>\n",
       "      <th></th>\n",
       "      <th></th>\n",
       "      <th></th>\n",
       "      <th></th>\n",
       "    </tr>\n",
       "  </thead>\n",
       "  <tbody>\n",
       "    <tr>\n",
       "      <th>Second line call</th>\n",
       "      <td>Onterecht aangemaakt</td>\n",
       "      <td>2015-01-23 10:54:00</td>\n",
       "      <td>True</td>\n",
       "      <td>ICT SAP</td>\n",
       "      <td>SD (Verkoop)</td>\n",
       "      <td>ICT Verstoring</td>\n",
       "      <td>NaN</td>\n",
       "      <td>2013-11-22 08:54:00</td>\n",
       "      <td>288</td>\n",
       "      <td>Klantenservice - Klantenservice-A - K&amp;O</td>\n",
       "      <td>...</td>\n",
       "      <td>00:00:00</td>\n",
       "      <td>2013-11-22 08:54:34</td>\n",
       "      <td>2015-01-15 13:14:12</td>\n",
       "      <td>2015-01-15 13:14:00</td>\n",
       "      <td>2015-01-15 13:14:00</td>\n",
       "      <td>2 uur</td>\n",
       "      <td>1900-05-22 09:20:00</td>\n",
       "      <td>True</td>\n",
       "      <td>NaN</td>\n",
       "      <td>E-mail</td>\n",
       "    </tr>\n",
       "    <tr>\n",
       "      <th>Second line call</th>\n",
       "      <td>Afgehandeld</td>\n",
       "      <td>2015-09-18 11:52:00</td>\n",
       "      <td>True</td>\n",
       "      <td>ICT GIS</td>\n",
       "      <td>Smallworld NRM</td>\n",
       "      <td>ICT Verstoring</td>\n",
       "      <td>NaN</td>\n",
       "      <td>2014-06-04 11:52:00</td>\n",
       "      <td>322</td>\n",
       "      <td>Aanleg Leidingen - Aansluitleidingen - K&amp;O</td>\n",
       "      <td>...</td>\n",
       "      <td>00:00:00</td>\n",
       "      <td>2014-06-04 11:52:15</td>\n",
       "      <td>2015-09-10 12:52:18</td>\n",
       "      <td>2015-09-10 12:52:00</td>\n",
       "      <td>2015-09-10 12:52:00</td>\n",
       "      <td>5 dagen</td>\n",
       "      <td>1900-06-08 09:30:00</td>\n",
       "      <td>True</td>\n",
       "      <td>NaN</td>\n",
       "      <td>E-mail</td>\n",
       "    </tr>\n",
       "    <tr>\n",
       "      <th>Second line call</th>\n",
       "      <td>Afgehandeld</td>\n",
       "      <td>2016-12-30 18:00:00</td>\n",
       "      <td>True</td>\n",
       "      <td>ICT GIS</td>\n",
       "      <td>Arcgis</td>\n",
       "      <td>ICT Verstoring</td>\n",
       "      <td>NaN</td>\n",
       "      <td>2014-07-21 15:15:00</td>\n",
       "      <td>183</td>\n",
       "      <td>NaN</td>\n",
       "      <td>...</td>\n",
       "      <td>00:00:00</td>\n",
       "      <td>2014-07-21 15:21:58</td>\n",
       "      <td>2015-04-08 07:57:11</td>\n",
       "      <td>2015-04-08 07:57:00</td>\n",
       "      <td>2015-04-08 07:57:00</td>\n",
       "      <td>5 dagen</td>\n",
       "      <td>1900-03-31 01:12:00</td>\n",
       "      <td>True</td>\n",
       "      <td>NaN</td>\n",
       "      <td>Telefonisch</td>\n",
       "    </tr>\n",
       "    <tr>\n",
       "      <th>Second line call</th>\n",
       "      <td>Afgehandeld</td>\n",
       "      <td>2015-07-17 15:45:00</td>\n",
       "      <td>True</td>\n",
       "      <td>ICT Infra</td>\n",
       "      <td>Netwerkverbinding</td>\n",
       "      <td>ICT Verstoring</td>\n",
       "      <td>NaN</td>\n",
       "      <td>2014-10-09 15:45:00</td>\n",
       "      <td>169</td>\n",
       "      <td>Productie - Centraal - K&amp;O</td>\n",
       "      <td>...</td>\n",
       "      <td>00:00:00</td>\n",
       "      <td>2014-10-09 15:45:51</td>\n",
       "      <td>2015-06-16 14:28:58</td>\n",
       "      <td>2015-06-16 14:28:00</td>\n",
       "      <td>2015-06-16 14:28:00</td>\n",
       "      <td>5 dagen</td>\n",
       "      <td>1900-03-24 07:13:00</td>\n",
       "      <td>True</td>\n",
       "      <td>NaN</td>\n",
       "      <td>E-mail</td>\n",
       "    </tr>\n",
       "    <tr>\n",
       "      <th>Second line call</th>\n",
       "      <td>Afgehandeld</td>\n",
       "      <td>2015-02-27 10:42:00</td>\n",
       "      <td>True</td>\n",
       "      <td>ICT Overige applicaties</td>\n",
       "      <td>Kijk op water</td>\n",
       "      <td>ICT Vraag</td>\n",
       "      <td>NaN</td>\n",
       "      <td>2014-10-20 10:42:00</td>\n",
       "      <td>75</td>\n",
       "      <td>Onderhoud &amp; Inspectie - Inspectie &amp; Kwal. - K&amp;O</td>\n",
       "      <td>...</td>\n",
       "      <td>00:00:00</td>\n",
       "      <td>2014-10-20 10:42:31</td>\n",
       "      <td>2015-02-05 09:10:00</td>\n",
       "      <td>2015-02-05 09:09:00</td>\n",
       "      <td>2015-02-05 09:09:00</td>\n",
       "      <td>5 dagen</td>\n",
       "      <td>1900-02-06 06:57:00</td>\n",
       "      <td>True</td>\n",
       "      <td>NaN</td>\n",
       "      <td>E-mail</td>\n",
       "    </tr>\n",
       "    <tr>\n",
       "      <th>...</th>\n",
       "      <td>...</td>\n",
       "      <td>...</td>\n",
       "      <td>...</td>\n",
       "      <td>...</td>\n",
       "      <td>...</td>\n",
       "      <td>...</td>\n",
       "      <td>...</td>\n",
       "      <td>...</td>\n",
       "      <td>...</td>\n",
       "      <td>...</td>\n",
       "      <td>...</td>\n",
       "      <td>...</td>\n",
       "      <td>...</td>\n",
       "      <td>...</td>\n",
       "      <td>...</td>\n",
       "      <td>...</td>\n",
       "      <td>...</td>\n",
       "      <td>...</td>\n",
       "      <td>...</td>\n",
       "      <td>...</td>\n",
       "      <td>...</td>\n",
       "    </tr>\n",
       "    <tr>\n",
       "      <th>First line call</th>\n",
       "      <td>Omgezet naar wijziging</td>\n",
       "      <td>2021-03-15 07:58:00</td>\n",
       "      <td>True</td>\n",
       "      <td>ICT GIS</td>\n",
       "      <td>Smallworld NRM</td>\n",
       "      <td>ICT Service Request</td>\n",
       "      <td>K&amp;O - Aanleg leidingen - HAL</td>\n",
       "      <td>2021-03-12 15:58:00</td>\n",
       "      <td>0</td>\n",
       "      <td>Aanleg leidingen - K&amp;O</td>\n",
       "      <td>...</td>\n",
       "      <td>00:00:00</td>\n",
       "      <td>2021-03-12 15:58:11</td>\n",
       "      <td>2021-03-12 16:24:37</td>\n",
       "      <td>2021-03-12 16:24:00</td>\n",
       "      <td>2021-03-12 16:24:00</td>\n",
       "      <td>4 uur</td>\n",
       "      <td>00:26:00</td>\n",
       "      <td>False</td>\n",
       "      <td>NaN</td>\n",
       "      <td>E-mail</td>\n",
       "    </tr>\n",
       "    <tr>\n",
       "      <th>First line call</th>\n",
       "      <td>Onterecht aangemaakt</td>\n",
       "      <td>2021-03-15 11:00:00</td>\n",
       "      <td>True</td>\n",
       "      <td>-</td>\n",
       "      <td>-</td>\n",
       "      <td>ICT Vraag</td>\n",
       "      <td>BO - ICT - ICT Service &amp; Infra</td>\n",
       "      <td>2021-03-13 10:32:00</td>\n",
       "      <td>0</td>\n",
       "      <td>ICT - ICT Services &amp; Infra - BO</td>\n",
       "      <td>...</td>\n",
       "      <td>00:00:00</td>\n",
       "      <td>2021-03-13 10:32:51</td>\n",
       "      <td>2021-03-13 14:13:56</td>\n",
       "      <td>2021-03-13 14:13:00</td>\n",
       "      <td>2021-03-13 14:13:00</td>\n",
       "      <td>4 uur</td>\n",
       "      <td>00:00:00</td>\n",
       "      <td>False</td>\n",
       "      <td>NaN</td>\n",
       "      <td>E-mail</td>\n",
       "    </tr>\n",
       "    <tr>\n",
       "      <th>First line call</th>\n",
       "      <td>Onterecht aangemaakt</td>\n",
       "      <td>2021-03-15 11:00:00</td>\n",
       "      <td>True</td>\n",
       "      <td>-</td>\n",
       "      <td>-</td>\n",
       "      <td>ICT Vraag</td>\n",
       "      <td>BO - ICT - ICT Service &amp; Infra</td>\n",
       "      <td>2021-03-13 12:22:00</td>\n",
       "      <td>0</td>\n",
       "      <td>ICT - ICT Services &amp; Infra - BO</td>\n",
       "      <td>...</td>\n",
       "      <td>00:00:00</td>\n",
       "      <td>2021-03-13 12:22:56</td>\n",
       "      <td>2021-03-13 14:14:02</td>\n",
       "      <td>2021-03-13 14:14:00</td>\n",
       "      <td>2021-03-13 14:14:00</td>\n",
       "      <td>4 uur</td>\n",
       "      <td>00:00:00</td>\n",
       "      <td>False</td>\n",
       "      <td>NaN</td>\n",
       "      <td>E-mail</td>\n",
       "    </tr>\n",
       "    <tr>\n",
       "      <th>First line call</th>\n",
       "      <td>Onterecht aangemaakt</td>\n",
       "      <td>2021-03-15 11:00:00</td>\n",
       "      <td>True</td>\n",
       "      <td>-</td>\n",
       "      <td>-</td>\n",
       "      <td>ICT Vraag</td>\n",
       "      <td>BO - ICT - ICT Service &amp; Infra</td>\n",
       "      <td>2021-03-13 12:57:00</td>\n",
       "      <td>0</td>\n",
       "      <td>ICT - ICT Services &amp; Infra - BO</td>\n",
       "      <td>...</td>\n",
       "      <td>00:00:00</td>\n",
       "      <td>2021-03-13 12:57:24</td>\n",
       "      <td>2021-03-13 14:14:08</td>\n",
       "      <td>2021-03-13 14:14:00</td>\n",
       "      <td>2021-03-13 14:14:00</td>\n",
       "      <td>4 uur</td>\n",
       "      <td>00:00:00</td>\n",
       "      <td>False</td>\n",
       "      <td>NaN</td>\n",
       "      <td>E-mail</td>\n",
       "    </tr>\n",
       "    <tr>\n",
       "      <th>First line call</th>\n",
       "      <td>Onterecht aangemaakt</td>\n",
       "      <td>2021-03-15 11:00:00</td>\n",
       "      <td>True</td>\n",
       "      <td>-</td>\n",
       "      <td>-</td>\n",
       "      <td>ICT Vraag</td>\n",
       "      <td>BO - ICT - ICT Service &amp; Infra</td>\n",
       "      <td>2021-03-13 13:33:00</td>\n",
       "      <td>0</td>\n",
       "      <td>ICT - ICT Services &amp; Infra - BO</td>\n",
       "      <td>...</td>\n",
       "      <td>00:00:00</td>\n",
       "      <td>2021-03-13 13:33:57</td>\n",
       "      <td>2021-03-13 14:14:14</td>\n",
       "      <td>2021-03-13 14:14:00</td>\n",
       "      <td>2021-03-13 14:14:00</td>\n",
       "      <td>4 uur</td>\n",
       "      <td>00:00:00</td>\n",
       "      <td>False</td>\n",
       "      <td>NaN</td>\n",
       "      <td>E-mail</td>\n",
       "    </tr>\n",
       "  </tbody>\n",
       "</table>\n",
       "<p>49028 rows × 22 columns</p>\n",
       "</div>"
      ],
      "text/plain": [
       "                                  Status         Target date  Closed  \\\n",
       "Line                                                                   \n",
       "Second line call    Onterecht aangemaakt 2015-01-23 10:54:00    True   \n",
       "Second line call             Afgehandeld 2015-09-18 11:52:00    True   \n",
       "Second line call             Afgehandeld 2016-12-30 18:00:00    True   \n",
       "Second line call             Afgehandeld 2015-07-17 15:45:00    True   \n",
       "Second line call             Afgehandeld 2015-02-27 10:42:00    True   \n",
       "...                                  ...                 ...     ...   \n",
       "First line call   Omgezet naar wijziging 2021-03-15 07:58:00    True   \n",
       "First line call     Onterecht aangemaakt 2021-03-15 11:00:00    True   \n",
       "First line call     Onterecht aangemaakt 2021-03-15 11:00:00    True   \n",
       "First line call     Onterecht aangemaakt 2021-03-15 11:00:00    True   \n",
       "First line call     Onterecht aangemaakt 2021-03-15 11:00:00    True   \n",
       "\n",
       "                                 Category        Subcategory  \\\n",
       "Line                                                           \n",
       "Second line call                  ICT SAP       SD (Verkoop)   \n",
       "Second line call                  ICT GIS     Smallworld NRM   \n",
       "Second line call                  ICT GIS             Arcgis   \n",
       "Second line call                ICT Infra  Netwerkverbinding   \n",
       "Second line call  ICT Overige applicaties      Kijk op water   \n",
       "...                                   ...                ...   \n",
       "First line call                   ICT GIS     Smallworld NRM   \n",
       "First line call                         -                  -   \n",
       "First line call                         -                  -   \n",
       "First line call                         -                  -   \n",
       "First line call                         -                  -   \n",
       "\n",
       "                            Call Type                      Department  \\\n",
       "Line                                                                    \n",
       "Second line call       ICT Verstoring                             NaN   \n",
       "Second line call       ICT Verstoring                             NaN   \n",
       "Second line call       ICT Verstoring                             NaN   \n",
       "Second line call       ICT Verstoring                             NaN   \n",
       "Second line call            ICT Vraag                             NaN   \n",
       "...                               ...                             ...   \n",
       "First line call   ICT Service Request    K&O - Aanleg leidingen - HAL   \n",
       "First line call             ICT Vraag  BO - ICT - ICT Service & Infra   \n",
       "First line call             ICT Vraag  BO - ICT - ICT Service & Infra   \n",
       "First line call             ICT Vraag  BO - ICT - ICT Service & Infra   \n",
       "First line call             ICT Vraag  BO - ICT - ICT Service & Infra   \n",
       "\n",
       "                           Call Date  Number of days current  \\\n",
       "Line                                                           \n",
       "Second line call 2013-11-22 08:54:00                     288   \n",
       "Second line call 2014-06-04 11:52:00                     322   \n",
       "Second line call 2014-07-21 15:15:00                     183   \n",
       "Second line call 2014-10-09 15:45:00                     169   \n",
       "Second line call 2014-10-20 10:42:00                      75   \n",
       "...                              ...                     ...   \n",
       "First line call  2021-03-12 15:58:00                       0   \n",
       "First line call  2021-03-13 10:32:00                       0   \n",
       "First line call  2021-03-13 12:22:00                       0   \n",
       "First line call  2021-03-13 12:57:00                       0   \n",
       "First line call  2021-03-13 13:33:00                       0   \n",
       "\n",
       "                                                     Department.1  ...  \\\n",
       "Line                                                               ...   \n",
       "Second line call          Klantenservice - Klantenservice-A - K&O  ...   \n",
       "Second line call       Aanleg Leidingen - Aansluitleidingen - K&O  ...   \n",
       "Second line call                                              NaN  ...   \n",
       "Second line call                       Productie - Centraal - K&O  ...   \n",
       "Second line call  Onderhoud & Inspectie - Inspectie & Kwal. - K&O  ...   \n",
       "...                                                           ...  ...   \n",
       "First line call                            Aanleg leidingen - K&O  ...   \n",
       "First line call                   ICT - ICT Services & Infra - BO  ...   \n",
       "First line call                   ICT - ICT Services & Infra - BO  ...   \n",
       "First line call                   ICT - ICT Services & Infra - BO  ...   \n",
       "First line call                   ICT - ICT Services & Infra - BO  ...   \n",
       "\n",
       "                 Time spent for Second Line Date/time of creation  \\\n",
       "Line                                                                \n",
       "Second line call                   00:00:00   2013-11-22 08:54:34   \n",
       "Second line call                   00:00:00   2014-06-04 11:52:15   \n",
       "Second line call                   00:00:00   2014-07-21 15:21:58   \n",
       "Second line call                   00:00:00   2014-10-09 15:45:51   \n",
       "Second line call                   00:00:00   2014-10-20 10:42:31   \n",
       "...                                     ...                   ...   \n",
       "First line call                    00:00:00   2021-03-12 15:58:11   \n",
       "First line call                    00:00:00   2021-03-13 10:32:51   \n",
       "First line call                    00:00:00   2021-03-13 12:22:56   \n",
       "First line call                    00:00:00   2021-03-13 12:57:24   \n",
       "First line call                    00:00:00   2021-03-13 13:33:57   \n",
       "\n",
       "                 Date/time of change        Closure Date     Completion Date  \\\n",
       "Line                                                                           \n",
       "Second line call 2015-01-15 13:14:12 2015-01-15 13:14:00 2015-01-15 13:14:00   \n",
       "Second line call 2015-09-10 12:52:18 2015-09-10 12:52:00 2015-09-10 12:52:00   \n",
       "Second line call 2015-04-08 07:57:11 2015-04-08 07:57:00 2015-04-08 07:57:00   \n",
       "Second line call 2015-06-16 14:28:58 2015-06-16 14:28:00 2015-06-16 14:28:00   \n",
       "Second line call 2015-02-05 09:10:00 2015-02-05 09:09:00 2015-02-05 09:09:00   \n",
       "...                              ...                 ...                 ...   \n",
       "First line call  2021-03-12 16:24:37 2021-03-12 16:24:00 2021-03-12 16:24:00   \n",
       "First line call  2021-03-13 14:13:56 2021-03-13 14:13:00 2021-03-13 14:13:00   \n",
       "First line call  2021-03-13 14:14:02 2021-03-13 14:14:00 2021-03-13 14:14:00   \n",
       "First line call  2021-03-13 14:14:08 2021-03-13 14:14:00 2021-03-13 14:14:00   \n",
       "First line call  2021-03-13 14:14:14 2021-03-13 14:14:00 2021-03-13 14:14:00   \n",
       "\n",
       "                 Duration      Actual duration Escalated Major call  \\\n",
       "Line                                                                  \n",
       "Second line call    2 uur  1900-05-22 09:20:00      True        NaN   \n",
       "Second line call  5 dagen  1900-06-08 09:30:00      True        NaN   \n",
       "Second line call  5 dagen  1900-03-31 01:12:00      True        NaN   \n",
       "Second line call  5 dagen  1900-03-24 07:13:00      True        NaN   \n",
       "Second line call  5 dagen  1900-02-06 06:57:00      True        NaN   \n",
       "...                   ...                  ...       ...        ...   \n",
       "First line call     4 uur             00:26:00     False        NaN   \n",
       "First line call     4 uur             00:00:00     False        NaN   \n",
       "First line call     4 uur             00:00:00     False        NaN   \n",
       "First line call     4 uur             00:00:00     False        NaN   \n",
       "First line call     4 uur             00:00:00     False        NaN   \n",
       "\n",
       "                        Entry  \n",
       "Line                           \n",
       "Second line call       E-mail  \n",
       "Second line call       E-mail  \n",
       "Second line call  Telefonisch  \n",
       "Second line call       E-mail  \n",
       "Second line call       E-mail  \n",
       "...                       ...  \n",
       "First line call        E-mail  \n",
       "First line call        E-mail  \n",
       "First line call        E-mail  \n",
       "First line call        E-mail  \n",
       "First line call        E-mail  \n",
       "\n",
       "[49028 rows x 22 columns]"
      ]
     },
     "execution_count": 2,
     "metadata": {},
     "output_type": "execute_result"
    }
   ],
   "source": [
    "df = pd.read_excel('DatasetEN.xlsx',index_col=0) #load data\n",
    "print(df.shape)\n",
    "df"
   ]
  },
  {
   "cell_type": "code",
   "execution_count": 3,
   "metadata": {},
   "outputs": [
    {
     "data": {
      "text/plain": [
       "Index(['Status', 'Target date', 'Closed', 'Category', 'Subcategory',\n",
       "       'Call Type', 'Department', 'Call Date', 'Number of days current',\n",
       "       'Department.1', 'Operator Group', 'Time spent for First line',\n",
       "       'Time spent for Second Line', 'Date/time of creation',\n",
       "       'Date/time of change', 'Closure Date', 'Completion Date', 'Duration',\n",
       "       'Actual duration', 'Escalated', 'Major call', 'Entry'],\n",
       "      dtype='object')"
      ]
     },
     "execution_count": 3,
     "metadata": {},
     "output_type": "execute_result"
    }
   ],
   "source": [
    "df.keys()"
   ]
  },
  {
   "cell_type": "code",
   "execution_count": 4,
   "metadata": {},
   "outputs": [
    {
     "data": {
      "text/plain": [
       "(49028, 22)"
      ]
     },
     "execution_count": 4,
     "metadata": {},
     "output_type": "execute_result"
    }
   ],
   "source": [
    "df.shape"
   ]
  },
  {
   "cell_type": "markdown",
   "metadata": {},
   "source": [
    "## EDA"
   ]
  },
  {
   "cell_type": "markdown",
   "metadata": {},
   "source": [
    "### Filter important columns"
   ]
  },
  {
   "cell_type": "code",
   "execution_count": 5,
   "metadata": {},
   "outputs": [
    {
     "name": "stderr",
     "output_type": "stream",
     "text": [
      "<ipython-input-5-1949ae73fe1a>:2: SettingWithCopyWarning: \n",
      "A value is trying to be set on a copy of a slice from a DataFrame.\n",
      "Try using .loc[row_indexer,col_indexer] = value instead\n",
      "\n",
      "See the caveats in the documentation: https://pandas.pydata.org/pandas-docs/stable/user_guide/indexing.html#returning-a-view-versus-a-copy\n",
      "  df['Line'] = df.index\n"
     ]
    },
    {
     "data": {
      "text/html": [
       "<div>\n",
       "<style scoped>\n",
       "    .dataframe tbody tr th:only-of-type {\n",
       "        vertical-align: middle;\n",
       "    }\n",
       "\n",
       "    .dataframe tbody tr th {\n",
       "        vertical-align: top;\n",
       "    }\n",
       "\n",
       "    .dataframe thead th {\n",
       "        text-align: right;\n",
       "    }\n",
       "</style>\n",
       "<table border=\"1\" class=\"dataframe\">\n",
       "  <thead>\n",
       "    <tr style=\"text-align: right;\">\n",
       "      <th></th>\n",
       "      <th>Status</th>\n",
       "      <th>Target date</th>\n",
       "      <th>Category</th>\n",
       "      <th>Subcategory</th>\n",
       "      <th>Call Type</th>\n",
       "      <th>Department.1</th>\n",
       "      <th>Operator Group</th>\n",
       "      <th>Date/time of creation</th>\n",
       "      <th>Closure Date</th>\n",
       "      <th>Duration</th>\n",
       "      <th>Entry</th>\n",
       "      <th>Line</th>\n",
       "    </tr>\n",
       "    <tr>\n",
       "      <th>Line</th>\n",
       "      <th></th>\n",
       "      <th></th>\n",
       "      <th></th>\n",
       "      <th></th>\n",
       "      <th></th>\n",
       "      <th></th>\n",
       "      <th></th>\n",
       "      <th></th>\n",
       "      <th></th>\n",
       "      <th></th>\n",
       "      <th></th>\n",
       "      <th></th>\n",
       "    </tr>\n",
       "  </thead>\n",
       "  <tbody>\n",
       "    <tr>\n",
       "      <th>Second line call</th>\n",
       "      <td>Onterecht aangemaakt</td>\n",
       "      <td>2015-01-23 10:54:00</td>\n",
       "      <td>ICT SAP</td>\n",
       "      <td>SD (Verkoop)</td>\n",
       "      <td>ICT Verstoring</td>\n",
       "      <td>Klantenservice - Klantenservice-A - K&amp;O</td>\n",
       "      <td>ICT ServiceDesk</td>\n",
       "      <td>2013-11-22 08:54:34</td>\n",
       "      <td>2015-01-15 13:14:00</td>\n",
       "      <td>2 uur</td>\n",
       "      <td>E-mail</td>\n",
       "      <td>Second line call</td>\n",
       "    </tr>\n",
       "    <tr>\n",
       "      <th>Second line call</th>\n",
       "      <td>Afgehandeld</td>\n",
       "      <td>2015-09-18 11:52:00</td>\n",
       "      <td>ICT GIS</td>\n",
       "      <td>Smallworld NRM</td>\n",
       "      <td>ICT Verstoring</td>\n",
       "      <td>Aanleg Leidingen - Aansluitleidingen - K&amp;O</td>\n",
       "      <td>ICT ServiceDesk</td>\n",
       "      <td>2014-06-04 11:52:15</td>\n",
       "      <td>2015-09-10 12:52:00</td>\n",
       "      <td>5 dagen</td>\n",
       "      <td>E-mail</td>\n",
       "      <td>Second line call</td>\n",
       "    </tr>\n",
       "    <tr>\n",
       "      <th>Second line call</th>\n",
       "      <td>Afgehandeld</td>\n",
       "      <td>2016-12-30 18:00:00</td>\n",
       "      <td>ICT GIS</td>\n",
       "      <td>Arcgis</td>\n",
       "      <td>ICT Verstoring</td>\n",
       "      <td>NaN</td>\n",
       "      <td>ICT Technisch beheer</td>\n",
       "      <td>2014-07-21 15:21:58</td>\n",
       "      <td>2015-04-08 07:57:00</td>\n",
       "      <td>5 dagen</td>\n",
       "      <td>Telefonisch</td>\n",
       "      <td>Second line call</td>\n",
       "    </tr>\n",
       "    <tr>\n",
       "      <th>Second line call</th>\n",
       "      <td>Afgehandeld</td>\n",
       "      <td>2015-07-17 15:45:00</td>\n",
       "      <td>ICT Infra</td>\n",
       "      <td>Netwerkverbinding</td>\n",
       "      <td>ICT Verstoring</td>\n",
       "      <td>Productie - Centraal - K&amp;O</td>\n",
       "      <td>ICT Technisch beheer</td>\n",
       "      <td>2014-10-09 15:45:51</td>\n",
       "      <td>2015-06-16 14:28:00</td>\n",
       "      <td>5 dagen</td>\n",
       "      <td>E-mail</td>\n",
       "      <td>Second line call</td>\n",
       "    </tr>\n",
       "    <tr>\n",
       "      <th>Second line call</th>\n",
       "      <td>Afgehandeld</td>\n",
       "      <td>2015-02-27 10:42:00</td>\n",
       "      <td>ICT Overige applicaties</td>\n",
       "      <td>Kijk op water</td>\n",
       "      <td>ICT Vraag</td>\n",
       "      <td>Onderhoud &amp; Inspectie - Inspectie &amp; Kwal. - K&amp;O</td>\n",
       "      <td>ICT Technisch beheer</td>\n",
       "      <td>2014-10-20 10:42:31</td>\n",
       "      <td>2015-02-05 09:09:00</td>\n",
       "      <td>5 dagen</td>\n",
       "      <td>E-mail</td>\n",
       "      <td>Second line call</td>\n",
       "    </tr>\n",
       "  </tbody>\n",
       "</table>\n",
       "</div>"
      ],
      "text/plain": [
       "                                Status         Target date  \\\n",
       "Line                                                         \n",
       "Second line call  Onterecht aangemaakt 2015-01-23 10:54:00   \n",
       "Second line call           Afgehandeld 2015-09-18 11:52:00   \n",
       "Second line call           Afgehandeld 2016-12-30 18:00:00   \n",
       "Second line call           Afgehandeld 2015-07-17 15:45:00   \n",
       "Second line call           Afgehandeld 2015-02-27 10:42:00   \n",
       "\n",
       "                                 Category        Subcategory       Call Type  \\\n",
       "Line                                                                           \n",
       "Second line call                  ICT SAP       SD (Verkoop)  ICT Verstoring   \n",
       "Second line call                  ICT GIS     Smallworld NRM  ICT Verstoring   \n",
       "Second line call                  ICT GIS             Arcgis  ICT Verstoring   \n",
       "Second line call                ICT Infra  Netwerkverbinding  ICT Verstoring   \n",
       "Second line call  ICT Overige applicaties      Kijk op water       ICT Vraag   \n",
       "\n",
       "                                                     Department.1  \\\n",
       "Line                                                                \n",
       "Second line call          Klantenservice - Klantenservice-A - K&O   \n",
       "Second line call       Aanleg Leidingen - Aansluitleidingen - K&O   \n",
       "Second line call                                              NaN   \n",
       "Second line call                       Productie - Centraal - K&O   \n",
       "Second line call  Onderhoud & Inspectie - Inspectie & Kwal. - K&O   \n",
       "\n",
       "                        Operator Group Date/time of creation  \\\n",
       "Line                                                           \n",
       "Second line call       ICT ServiceDesk   2013-11-22 08:54:34   \n",
       "Second line call       ICT ServiceDesk   2014-06-04 11:52:15   \n",
       "Second line call  ICT Technisch beheer   2014-07-21 15:21:58   \n",
       "Second line call  ICT Technisch beheer   2014-10-09 15:45:51   \n",
       "Second line call  ICT Technisch beheer   2014-10-20 10:42:31   \n",
       "\n",
       "                        Closure Date Duration        Entry              Line  \n",
       "Line                                                                          \n",
       "Second line call 2015-01-15 13:14:00    2 uur       E-mail  Second line call  \n",
       "Second line call 2015-09-10 12:52:00  5 dagen       E-mail  Second line call  \n",
       "Second line call 2015-04-08 07:57:00  5 dagen  Telefonisch  Second line call  \n",
       "Second line call 2015-06-16 14:28:00  5 dagen       E-mail  Second line call  \n",
       "Second line call 2015-02-05 09:09:00  5 dagen       E-mail  Second line call  "
      ]
     },
     "execution_count": 5,
     "metadata": {},
     "output_type": "execute_result"
    }
   ],
   "source": [
    "df = df[['Status', 'Target date','Category','Subcategory','Call Type','Department.1','Operator Group','Date/time of creation','Closure Date','Duration','Entry']]\n",
    "df['Line'] = df.index\n",
    "df.reset_index(drop=True)\n",
    "\n",
    "df.head()"
   ]
  },
  {
   "cell_type": "code",
   "execution_count": 6,
   "metadata": {},
   "outputs": [
    {
     "data": {
      "text/plain": [
       "(49028, 12)"
      ]
     },
     "execution_count": 6,
     "metadata": {},
     "output_type": "execute_result"
    }
   ],
   "source": [
    "df.shape"
   ]
  },
  {
   "cell_type": "markdown",
   "metadata": {},
   "source": [
    "Create a column that represents the total duration of a call:"
   ]
  },
  {
   "cell_type": "code",
   "execution_count": 7,
   "metadata": {},
   "outputs": [
    {
     "name": "stderr",
     "output_type": "stream",
     "text": [
      "<ipython-input-7-b65e94e25e9a>:1: SettingWithCopyWarning: \n",
      "A value is trying to be set on a copy of a slice from a DataFrame.\n",
      "Try using .loc[row_indexer,col_indexer] = value instead\n",
      "\n",
      "See the caveats in the documentation: https://pandas.pydata.org/pandas-docs/stable/user_guide/indexing.html#returning-a-view-versus-a-copy\n",
      "  df['actual duration'] = df['Closure Date'] - df['Date/time of creation']\n"
     ]
    }
   ],
   "source": [
    "df['actual duration'] = df['Closure Date'] - df['Date/time of creation']"
   ]
  },
  {
   "cell_type": "code",
   "execution_count": 8,
   "metadata": {},
   "outputs": [
    {
     "data": {
      "text/html": [
       "<div>\n",
       "<style scoped>\n",
       "    .dataframe tbody tr th:only-of-type {\n",
       "        vertical-align: middle;\n",
       "    }\n",
       "\n",
       "    .dataframe tbody tr th {\n",
       "        vertical-align: top;\n",
       "    }\n",
       "\n",
       "    .dataframe thead th {\n",
       "        text-align: right;\n",
       "    }\n",
       "</style>\n",
       "<table border=\"1\" class=\"dataframe\">\n",
       "  <thead>\n",
       "    <tr style=\"text-align: right;\">\n",
       "      <th></th>\n",
       "      <th>Status</th>\n",
       "      <th>Target date</th>\n",
       "      <th>Category</th>\n",
       "      <th>Subcategory</th>\n",
       "      <th>Call Type</th>\n",
       "      <th>Department.1</th>\n",
       "      <th>Operator Group</th>\n",
       "      <th>Date/time of creation</th>\n",
       "      <th>Closure Date</th>\n",
       "      <th>Duration</th>\n",
       "      <th>Entry</th>\n",
       "      <th>Line</th>\n",
       "      <th>actual duration</th>\n",
       "    </tr>\n",
       "    <tr>\n",
       "      <th>Line</th>\n",
       "      <th></th>\n",
       "      <th></th>\n",
       "      <th></th>\n",
       "      <th></th>\n",
       "      <th></th>\n",
       "      <th></th>\n",
       "      <th></th>\n",
       "      <th></th>\n",
       "      <th></th>\n",
       "      <th></th>\n",
       "      <th></th>\n",
       "      <th></th>\n",
       "      <th></th>\n",
       "    </tr>\n",
       "  </thead>\n",
       "  <tbody>\n",
       "    <tr>\n",
       "      <th>Second line call</th>\n",
       "      <td>Onterecht aangemaakt</td>\n",
       "      <td>2015-01-23 10:54:00</td>\n",
       "      <td>ICT SAP</td>\n",
       "      <td>SD (Verkoop)</td>\n",
       "      <td>ICT Verstoring</td>\n",
       "      <td>Klantenservice - Klantenservice-A - K&amp;O</td>\n",
       "      <td>ICT ServiceDesk</td>\n",
       "      <td>2013-11-22 08:54:34</td>\n",
       "      <td>2015-01-15 13:14:00</td>\n",
       "      <td>2 uur</td>\n",
       "      <td>E-mail</td>\n",
       "      <td>Second line call</td>\n",
       "      <td>419 days 04:19:26</td>\n",
       "    </tr>\n",
       "    <tr>\n",
       "      <th>Second line call</th>\n",
       "      <td>Afgehandeld</td>\n",
       "      <td>2015-09-18 11:52:00</td>\n",
       "      <td>ICT GIS</td>\n",
       "      <td>Smallworld NRM</td>\n",
       "      <td>ICT Verstoring</td>\n",
       "      <td>Aanleg Leidingen - Aansluitleidingen - K&amp;O</td>\n",
       "      <td>ICT ServiceDesk</td>\n",
       "      <td>2014-06-04 11:52:15</td>\n",
       "      <td>2015-09-10 12:52:00</td>\n",
       "      <td>5 dagen</td>\n",
       "      <td>E-mail</td>\n",
       "      <td>Second line call</td>\n",
       "      <td>463 days 00:59:45</td>\n",
       "    </tr>\n",
       "    <tr>\n",
       "      <th>Second line call</th>\n",
       "      <td>Afgehandeld</td>\n",
       "      <td>2016-12-30 18:00:00</td>\n",
       "      <td>ICT GIS</td>\n",
       "      <td>Arcgis</td>\n",
       "      <td>ICT Verstoring</td>\n",
       "      <td>NaN</td>\n",
       "      <td>ICT Technisch beheer</td>\n",
       "      <td>2014-07-21 15:21:58</td>\n",
       "      <td>2015-04-08 07:57:00</td>\n",
       "      <td>5 dagen</td>\n",
       "      <td>Telefonisch</td>\n",
       "      <td>Second line call</td>\n",
       "      <td>260 days 16:35:02</td>\n",
       "    </tr>\n",
       "    <tr>\n",
       "      <th>Second line call</th>\n",
       "      <td>Afgehandeld</td>\n",
       "      <td>2015-07-17 15:45:00</td>\n",
       "      <td>ICT Infra</td>\n",
       "      <td>Netwerkverbinding</td>\n",
       "      <td>ICT Verstoring</td>\n",
       "      <td>Productie - Centraal - K&amp;O</td>\n",
       "      <td>ICT Technisch beheer</td>\n",
       "      <td>2014-10-09 15:45:51</td>\n",
       "      <td>2015-06-16 14:28:00</td>\n",
       "      <td>5 dagen</td>\n",
       "      <td>E-mail</td>\n",
       "      <td>Second line call</td>\n",
       "      <td>249 days 22:42:09</td>\n",
       "    </tr>\n",
       "    <tr>\n",
       "      <th>Second line call</th>\n",
       "      <td>Afgehandeld</td>\n",
       "      <td>2015-02-27 10:42:00</td>\n",
       "      <td>ICT Overige applicaties</td>\n",
       "      <td>Kijk op water</td>\n",
       "      <td>ICT Vraag</td>\n",
       "      <td>Onderhoud &amp; Inspectie - Inspectie &amp; Kwal. - K&amp;O</td>\n",
       "      <td>ICT Technisch beheer</td>\n",
       "      <td>2014-10-20 10:42:31</td>\n",
       "      <td>2015-02-05 09:09:00</td>\n",
       "      <td>5 dagen</td>\n",
       "      <td>E-mail</td>\n",
       "      <td>Second line call</td>\n",
       "      <td>107 days 22:26:29</td>\n",
       "    </tr>\n",
       "  </tbody>\n",
       "</table>\n",
       "</div>"
      ],
      "text/plain": [
       "                                Status         Target date  \\\n",
       "Line                                                         \n",
       "Second line call  Onterecht aangemaakt 2015-01-23 10:54:00   \n",
       "Second line call           Afgehandeld 2015-09-18 11:52:00   \n",
       "Second line call           Afgehandeld 2016-12-30 18:00:00   \n",
       "Second line call           Afgehandeld 2015-07-17 15:45:00   \n",
       "Second line call           Afgehandeld 2015-02-27 10:42:00   \n",
       "\n",
       "                                 Category        Subcategory       Call Type  \\\n",
       "Line                                                                           \n",
       "Second line call                  ICT SAP       SD (Verkoop)  ICT Verstoring   \n",
       "Second line call                  ICT GIS     Smallworld NRM  ICT Verstoring   \n",
       "Second line call                  ICT GIS             Arcgis  ICT Verstoring   \n",
       "Second line call                ICT Infra  Netwerkverbinding  ICT Verstoring   \n",
       "Second line call  ICT Overige applicaties      Kijk op water       ICT Vraag   \n",
       "\n",
       "                                                     Department.1  \\\n",
       "Line                                                                \n",
       "Second line call          Klantenservice - Klantenservice-A - K&O   \n",
       "Second line call       Aanleg Leidingen - Aansluitleidingen - K&O   \n",
       "Second line call                                              NaN   \n",
       "Second line call                       Productie - Centraal - K&O   \n",
       "Second line call  Onderhoud & Inspectie - Inspectie & Kwal. - K&O   \n",
       "\n",
       "                        Operator Group Date/time of creation  \\\n",
       "Line                                                           \n",
       "Second line call       ICT ServiceDesk   2013-11-22 08:54:34   \n",
       "Second line call       ICT ServiceDesk   2014-06-04 11:52:15   \n",
       "Second line call  ICT Technisch beheer   2014-07-21 15:21:58   \n",
       "Second line call  ICT Technisch beheer   2014-10-09 15:45:51   \n",
       "Second line call  ICT Technisch beheer   2014-10-20 10:42:31   \n",
       "\n",
       "                        Closure Date Duration        Entry              Line  \\\n",
       "Line                                                                           \n",
       "Second line call 2015-01-15 13:14:00    2 uur       E-mail  Second line call   \n",
       "Second line call 2015-09-10 12:52:00  5 dagen       E-mail  Second line call   \n",
       "Second line call 2015-04-08 07:57:00  5 dagen  Telefonisch  Second line call   \n",
       "Second line call 2015-06-16 14:28:00  5 dagen       E-mail  Second line call   \n",
       "Second line call 2015-02-05 09:09:00  5 dagen       E-mail  Second line call   \n",
       "\n",
       "                   actual duration  \n",
       "Line                                \n",
       "Second line call 419 days 04:19:26  \n",
       "Second line call 463 days 00:59:45  \n",
       "Second line call 260 days 16:35:02  \n",
       "Second line call 249 days 22:42:09  \n",
       "Second line call 107 days 22:26:29  "
      ]
     },
     "execution_count": 8,
     "metadata": {},
     "output_type": "execute_result"
    }
   ],
   "source": [
    "df.head()"
   ]
  },
  {
   "cell_type": "code",
   "execution_count": 9,
   "metadata": {},
   "outputs": [
    {
     "data": {
      "text/plain": [
       "Index(['Status', 'Target date', 'Category', 'Subcategory', 'Call Type',\n",
       "       'Department.1', 'Operator Group', 'Date/time of creation',\n",
       "       'Closure Date', 'Duration', 'Entry', 'Line', 'actual duration'],\n",
       "      dtype='object')"
      ]
     },
     "execution_count": 9,
     "metadata": {},
     "output_type": "execute_result"
    }
   ],
   "source": [
    "df.keys()"
   ]
  },
  {
   "cell_type": "markdown",
   "metadata": {},
   "source": [
    "### Remove categorical entries that are not sufficiently represented in the dataset:"
   ]
  },
  {
   "cell_type": "code",
   "execution_count": 10,
   "metadata": {},
   "outputs": [
    {
     "data": {
      "text/plain": [
       "Status                            object\n",
       "Target date               datetime64[ns]\n",
       "Category                          object\n",
       "Subcategory                       object\n",
       "Call Type                         object\n",
       "Department.1                      object\n",
       "Operator Group                    object\n",
       "Date/time of creation     datetime64[ns]\n",
       "Closure Date              datetime64[ns]\n",
       "Duration                          object\n",
       "Entry                             object\n",
       "Line                              object\n",
       "actual duration          timedelta64[ns]\n",
       "dtype: object"
      ]
     },
     "execution_count": 10,
     "metadata": {},
     "output_type": "execute_result"
    }
   ],
   "source": [
    "df.dtypes"
   ]
  },
  {
   "cell_type": "markdown",
   "metadata": {},
   "source": [
    "Describe the categorical variables"
   ]
  },
  {
   "cell_type": "code",
   "execution_count": 11,
   "metadata": {
    "scrolled": true
   },
   "outputs": [
    {
     "data": {
      "text/html": [
       "<div>\n",
       "<style scoped>\n",
       "    .dataframe tbody tr th:only-of-type {\n",
       "        vertical-align: middle;\n",
       "    }\n",
       "\n",
       "    .dataframe tbody tr th {\n",
       "        vertical-align: top;\n",
       "    }\n",
       "\n",
       "    .dataframe thead th {\n",
       "        text-align: right;\n",
       "    }\n",
       "</style>\n",
       "<table border=\"1\" class=\"dataframe\">\n",
       "  <thead>\n",
       "    <tr style=\"text-align: right;\">\n",
       "      <th></th>\n",
       "      <th>Status</th>\n",
       "      <th>Category</th>\n",
       "      <th>Subcategory</th>\n",
       "      <th>Call Type</th>\n",
       "      <th>Department.1</th>\n",
       "      <th>Operator Group</th>\n",
       "      <th>Duration</th>\n",
       "      <th>Entry</th>\n",
       "    </tr>\n",
       "  </thead>\n",
       "  <tbody>\n",
       "    <tr>\n",
       "      <th>count</th>\n",
       "      <td>49028</td>\n",
       "      <td>49028</td>\n",
       "      <td>49028</td>\n",
       "      <td>49028</td>\n",
       "      <td>41778</td>\n",
       "      <td>49028</td>\n",
       "      <td>49028</td>\n",
       "      <td>49028</td>\n",
       "    </tr>\n",
       "    <tr>\n",
       "      <th>unique</th>\n",
       "      <td>5</td>\n",
       "      <td>29</td>\n",
       "      <td>200</td>\n",
       "      <td>24</td>\n",
       "      <td>76</td>\n",
       "      <td>10</td>\n",
       "      <td>9</td>\n",
       "      <td>9</td>\n",
       "    </tr>\n",
       "    <tr>\n",
       "      <th>top</th>\n",
       "      <td>Afgehandeld</td>\n",
       "      <td>ICT Infra</td>\n",
       "      <td>-</td>\n",
       "      <td>ICT Vraag</td>\n",
       "      <td>ICT - ICT Services &amp; Infra - BO</td>\n",
       "      <td>ICT ServiceDesk</td>\n",
       "      <td>2 uur</td>\n",
       "      <td>E-mail</td>\n",
       "    </tr>\n",
       "    <tr>\n",
       "      <th>freq</th>\n",
       "      <td>30171</td>\n",
       "      <td>11714</td>\n",
       "      <td>10551</td>\n",
       "      <td>18581</td>\n",
       "      <td>2977</td>\n",
       "      <td>44450</td>\n",
       "      <td>34191</td>\n",
       "      <td>27559</td>\n",
       "    </tr>\n",
       "  </tbody>\n",
       "</table>\n",
       "</div>"
      ],
      "text/plain": [
       "             Status   Category Subcategory  Call Type  \\\n",
       "count         49028      49028       49028      49028   \n",
       "unique            5         29         200         24   \n",
       "top     Afgehandeld  ICT Infra           -  ICT Vraag   \n",
       "freq          30171      11714       10551      18581   \n",
       "\n",
       "                           Department.1   Operator Group Duration   Entry  \n",
       "count                             41778            49028    49028   49028  \n",
       "unique                               76               10        9       9  \n",
       "top     ICT - ICT Services & Infra - BO  ICT ServiceDesk    2 uur  E-mail  \n",
       "freq                               2977            44450    34191   27559  "
      ]
     },
     "execution_count": 11,
     "metadata": {},
     "output_type": "execute_result"
    }
   ],
   "source": [
    "df[['Status', 'Category', 'Subcategory', 'Call Type',\n",
    "       'Department.1', 'Operator Group','Duration', 'Entry']].describe()"
   ]
  },
  {
   "cell_type": "code",
   "execution_count": 12,
   "metadata": {},
   "outputs": [
    {
     "data": {
      "text/plain": [
       "Afgehandeld               30171\n",
       "Onterecht aangemaakt      15897\n",
       "Omgezet naar wijziging     2913\n",
       "Afgemeld, geen reactie       45\n",
       "Reactie ontvangen             2\n",
       "Name: Status, dtype: int64"
      ]
     },
     "execution_count": 12,
     "metadata": {},
     "output_type": "execute_result"
    }
   ],
   "source": [
    "status_type = df['Status']\n",
    "status_type.value_counts()"
   ]
  },
  {
   "cell_type": "markdown",
   "metadata": {},
   "source": [
    "Only include the first 3 categories because the other 2 are not properly represented"
   ]
  },
  {
   "cell_type": "code",
   "execution_count": 13,
   "metadata": {},
   "outputs": [],
   "source": [
    "df = df[df[\"Status\"].str.contains(\"Afgehandeld\", case = False) | df[\"Status\"].str.contains(\"Onterecht aangemaakt\", case = False)| df[\"Status\"].str.contains(\"Omgezet naar wijziging\", case = False)]"
   ]
  },
  {
   "cell_type": "markdown",
   "metadata": {},
   "source": [
    "Remove the categories with less than 10 instance"
   ]
  },
  {
   "cell_type": "code",
   "execution_count": 14,
   "metadata": {},
   "outputs": [
    {
     "data": {
      "text/plain": [
       "ICT Infra                       11695\n",
       "-                               10551\n",
       "ICT MS Applicaties               6022\n",
       "ICT Telefonie                    5284\n",
       "ICT Overige applicaties          4860\n",
       "ICT Werkplek                     4763\n",
       "ICT SAP                          4394\n",
       "ICT GIS                           959\n",
       "ICT Projecten                     245\n",
       "SAP-HANA                           79\n",
       "Security                           36\n",
       "PA -                               21\n",
       "GDB StreetSmart                    17\n",
       "SMART                              14\n",
       "GDB Klic/Kadaster                  11\n",
       "PA Software                         4\n",
       "FO Ruimtefaciliteiten               4\n",
       "FO Repro                            3\n",
       "GDB ArcGIS                          3\n",
       "GDB Spatial/XY/WML Lite             3\n",
       "PA Hardware                         3\n",
       "FO Bibliotheek                      2\n",
       "FO Gebouw & Terreinbeheer           2\n",
       "FO Applicatiebeheer                 1\n",
       "FO Personele mutatie                1\n",
       "PA Netwerk                          1\n",
       "FO Archief                          1\n",
       "GDB SmallworldNRM                   1\n",
       "GDB Dienstverlening Algemeen        1\n",
       "Name: Category, dtype: int64"
      ]
     },
     "execution_count": 14,
     "metadata": {},
     "output_type": "execute_result"
    }
   ],
   "source": [
    "category_type = df['Category']\n",
    "category_type.value_counts()"
   ]
  },
  {
   "cell_type": "code",
   "execution_count": 15,
   "metadata": {},
   "outputs": [],
   "source": [
    "g = df.groupby('Category')\n",
    "df = g.filter(lambda x: len(x) > 10)"
   ]
  },
  {
   "cell_type": "code",
   "execution_count": 16,
   "metadata": {},
   "outputs": [
    {
     "data": {
      "text/plain": [
       "ICT Infra                  11695\n",
       "-                          10551\n",
       "ICT MS Applicaties          6022\n",
       "ICT Telefonie               5284\n",
       "ICT Overige applicaties     4860\n",
       "ICT Werkplek                4763\n",
       "ICT SAP                     4394\n",
       "ICT GIS                      959\n",
       "ICT Projecten                245\n",
       "SAP-HANA                      79\n",
       "Security                      36\n",
       "PA -                          21\n",
       "GDB StreetSmart               17\n",
       "SMART                         14\n",
       "GDB Klic/Kadaster             11\n",
       "Name: Category, dtype: int64"
      ]
     },
     "execution_count": 16,
     "metadata": {},
     "output_type": "execute_result"
    }
   ],
   "source": [
    "category_type = df['Category']\n",
    "category_type.value_counts()"
   ]
  },
  {
   "cell_type": "markdown",
   "metadata": {},
   "source": [
    "Do the same for subcategory"
   ]
  },
  {
   "cell_type": "code",
   "execution_count": 17,
   "metadata": {},
   "outputs": [
    {
     "data": {
      "text/plain": [
       "-                       10551\n",
       "Windows account / AD     5234\n",
       "Outlook                  3700\n",
       "Smartphone               3453\n",
       "Laptop                   2008\n",
       "                        ...  \n",
       "Applicator                  1\n",
       "Headset                     1\n",
       "Vernieling                  1\n",
       "Hydraulica                  1\n",
       "PowerApps                   1\n",
       "Name: Subcategory, Length: 183, dtype: int64"
      ]
     },
     "execution_count": 17,
     "metadata": {},
     "output_type": "execute_result"
    }
   ],
   "source": [
    "category_type = df['Subcategory']\n",
    "category_type.value_counts()"
   ]
  },
  {
   "cell_type": "code",
   "execution_count": 18,
   "metadata": {},
   "outputs": [],
   "source": [
    "g = df.groupby('Subcategory')\n",
    "df = g.filter(lambda x: len(x) > 10)"
   ]
  },
  {
   "cell_type": "code",
   "execution_count": 19,
   "metadata": {},
   "outputs": [
    {
     "data": {
      "text/plain": [
       "ICT Vraag                18525\n",
       "ICT Verstoring           15763\n",
       "ICT Service Request       7384\n",
       "ICT Naar wijziging        5259\n",
       "ICT Verstoring Intern      858\n",
       "ICT Projecten              455\n",
       "ICT Verstoring Extern      277\n",
       "SAP-HANA Storing            75\n",
       "ICT Wachtdienst             74\n",
       "S2O Storing                 12\n",
       "FO Vraag                    12\n",
       "Security                     6\n",
       "S2O Verzoek                  6\n",
       "FO Storing                   5\n",
       "S2O Vraag                    4\n",
       "GDB Service Request          3\n",
       "Smart Storing                3\n",
       "Smart Vraag                  2\n",
       "Smart Verzoek                2\n",
       "Cybersecurity                1\n",
       "FO Wens                      1\n",
       "PA Analyse                   1\n",
       "SAP-HANA Vraag               1\n",
       "PA Vraag                     1\n",
       "Name: Call Type, dtype: int64"
      ]
     },
     "execution_count": 19,
     "metadata": {},
     "output_type": "execute_result"
    }
   ],
   "source": [
    "call_type = df['Call Type']\n",
    "call_type.value_counts()"
   ]
  },
  {
   "cell_type": "code",
   "execution_count": 20,
   "metadata": {},
   "outputs": [],
   "source": [
    "g = df.groupby('Call Type')\n",
    "df = g.filter(lambda x: len(x) > 10)"
   ]
  },
  {
   "cell_type": "code",
   "execution_count": 21,
   "metadata": {},
   "outputs": [
    {
     "data": {
      "text/plain": [
       "ICT - ICT Services & Infra - BO                   2940\n",
       "ICT - ICT Applicaties & Informatieanalyse - BO    2913\n",
       "Klantenservice - Klantenservice-A - K&O           2435\n",
       "Facilitaire Ondersteuning - Secretariaten - BO    2254\n",
       "Facilitaire Ondersteuning - Facilitair - BO       2023\n",
       "                                                  ... \n",
       "Projecten - Team projectmanagement - M&I             3\n",
       "Klantenservice A - Klantenservice - K&O              3\n",
       "Projectenmanagement - Projecten - M&I                3\n",
       "ICT - ICT Appl & Informatieanalyse -BO               1\n",
       "bo - P&A - Team KAM                                  1\n",
       "Name: Department.1, Length: 76, dtype: int64"
      ]
     },
     "execution_count": 21,
     "metadata": {},
     "output_type": "execute_result"
    }
   ],
   "source": [
    "department_type = df['Department.1']\n",
    "department_type.value_counts()"
   ]
  },
  {
   "cell_type": "code",
   "execution_count": 22,
   "metadata": {},
   "outputs": [],
   "source": [
    "g = df.groupby('Department.1')\n",
    "df = g.filter(lambda x: len(x) > 10)"
   ]
  },
  {
   "cell_type": "code",
   "execution_count": 23,
   "metadata": {},
   "outputs": [
    {
     "data": {
      "text/plain": [
       "ICT ServiceDesk                         37402\n",
       "ICT Technisch beheer                     2131\n",
       "ICT SAP Functioneel Applicatiebeheer      638\n",
       "ICT-Next Device                           409\n",
       "ICT Team Microsoft                        352\n",
       "ICT GIS Functioneel Applicatiebeheer      324\n",
       "SAP-HANA                                   74\n",
       "ICT-Projecten                              70\n",
       "ICT Management                             58\n",
       "SMART                                       2\n",
       "Name: Operator Group, dtype: int64"
      ]
     },
     "execution_count": 23,
     "metadata": {},
     "output_type": "execute_result"
    }
   ],
   "source": [
    "operator_type = df['Operator Group']\n",
    "operator_type.value_counts()"
   ]
  },
  {
   "cell_type": "code",
   "execution_count": 24,
   "metadata": {},
   "outputs": [],
   "source": [
    "g = df.groupby('Operator Group')\n",
    "df = g.filter(lambda x: len(x) > 10)"
   ]
  },
  {
   "cell_type": "code",
   "execution_count": 25,
   "metadata": {},
   "outputs": [
    {
     "data": {
      "text/plain": [
       "2 uur        29605\n",
       "5 dagen       8637\n",
       "4 uur         3085\n",
       "6 maanden       64\n",
       "1 dagen         49\n",
       "3 dagen         10\n",
       "72 uur           6\n",
       "3 jaren          2\n",
       "Name: Duration, dtype: int64"
      ]
     },
     "execution_count": 25,
     "metadata": {},
     "output_type": "execute_result"
    }
   ],
   "source": [
    "operator_type = df['Duration']\n",
    "operator_type.value_counts()"
   ]
  },
  {
   "cell_type": "code",
   "execution_count": 26,
   "metadata": {},
   "outputs": [
    {
     "data": {
      "text/plain": [
       "E-mail                22003\n",
       "Telefonisch           14268\n",
       "Persoonlijk            3220\n",
       "SelfServiceDesk        1383\n",
       "Topdesk Formulier       524\n",
       "Skype                    23\n",
       "Zelf geconstateerd       20\n",
       "FO-mail                  16\n",
       "PA-mail                   1\n",
       "Name: Entry, dtype: int64"
      ]
     },
     "execution_count": 26,
     "metadata": {},
     "output_type": "execute_result"
    }
   ],
   "source": [
    "entry_type = df['Entry']\n",
    "entry_type.value_counts()"
   ]
  },
  {
   "cell_type": "code",
   "execution_count": 27,
   "metadata": {},
   "outputs": [
    {
     "data": {
      "text/plain": [
       "<matplotlib.axes._subplots.AxesSubplot at 0x20075a49370>"
      ]
     },
     "execution_count": 27,
     "metadata": {},
     "output_type": "execute_result"
    },
    {
     "data": {
      "image/png": "[encoded data removed]",
      "text/plain": [
       "<Figure size 720x432 with 1 Axes>"
      ]
     },
     "metadata": {
      "needs_background": "light"
     },
     "output_type": "display_data"
    }
   ],
   "source": [
    "entry_type.hist()"
   ]
  },
  {
   "cell_type": "code",
   "execution_count": 28,
   "metadata": {},
   "outputs": [],
   "source": [
    "df = df[df[\"Entry\"].str.contains(\"E-mail\", case = False) | df[\"Entry\"].str.contains(\"Telefonisch\", case = False) | df[\"Entry\"].str.contains(\"Persoonlijk\", case = False)| df[\"Entry\"].str.contains(\"SelfServiceDesk\", case = False)]"
   ]
  },
  {
   "cell_type": "code",
   "execution_count": 29,
   "metadata": {},
   "outputs": [
    {
     "data": {
      "text/plain": [
       "(40874, 13)"
      ]
     },
     "execution_count": 29,
     "metadata": {},
     "output_type": "execute_result"
    }
   ],
   "source": [
    "df.shape"
   ]
  },
  {
   "cell_type": "markdown",
   "metadata": {},
   "source": [
    "We managed to filter out a lot of instances that are not sufficiently represented. Since we have a lot of data we decided to remove them from the data set just for convenience. "
   ]
  },
  {
   "cell_type": "markdown",
   "metadata": {},
   "source": [
    "### Remove outliers in the numeric data:"
   ]
  },
  {
   "cell_type": "markdown",
   "metadata": {},
   "source": [
    "Describe the numeric variables"
   ]
  },
  {
   "cell_type": "code",
   "execution_count": 30,
   "metadata": {},
   "outputs": [
    {
     "data": {
      "text/html": [
       "<div>\n",
       "<style scoped>\n",
       "    .dataframe tbody tr th:only-of-type {\n",
       "        vertical-align: middle;\n",
       "    }\n",
       "\n",
       "    .dataframe tbody tr th {\n",
       "        vertical-align: top;\n",
       "    }\n",
       "\n",
       "    .dataframe thead th {\n",
       "        text-align: right;\n",
       "    }\n",
       "</style>\n",
       "<table border=\"1\" class=\"dataframe\">\n",
       "  <thead>\n",
       "    <tr style=\"text-align: right;\">\n",
       "      <th></th>\n",
       "      <th>Target date</th>\n",
       "      <th>Date/time of creation</th>\n",
       "      <th>Closure Date</th>\n",
       "      <th>actual duration</th>\n",
       "    </tr>\n",
       "  </thead>\n",
       "  <tbody>\n",
       "    <tr>\n",
       "      <th>count</th>\n",
       "      <td>40874</td>\n",
       "      <td>40874</td>\n",
       "      <td>40874</td>\n",
       "      <td>40874</td>\n",
       "    </tr>\n",
       "    <tr>\n",
       "      <th>mean</th>\n",
       "      <td>2017-11-17 07:23:27.015396864</td>\n",
       "      <td>2017-11-13 06:58:07.295764736</td>\n",
       "      <td>2017-11-16 08:10:57.436668672</td>\n",
       "      <td>3 days 01:12:50.140896412</td>\n",
       "    </tr>\n",
       "    <tr>\n",
       "      <th>min</th>\n",
       "      <td>2014-12-23 16:24:00</td>\n",
       "      <td>2013-11-22 08:54:34</td>\n",
       "      <td>2015-01-05 08:34:00</td>\n",
       "      <td>-1 days +21:04:19</td>\n",
       "    </tr>\n",
       "    <tr>\n",
       "      <th>25%</th>\n",
       "      <td>2016-04-11 12:18:15</td>\n",
       "      <td>2016-04-07 16:31:36.500000</td>\n",
       "      <td>2016-04-11 08:32:45</td>\n",
       "      <td>0 days 00:00:20</td>\n",
       "    </tr>\n",
       "    <tr>\n",
       "      <th>50%</th>\n",
       "      <td>2017-09-12 18:51:30</td>\n",
       "      <td>2017-09-11 11:00:52.500000</td>\n",
       "      <td>2017-09-12 14:50:30</td>\n",
       "      <td>0 days 00:17:24</td>\n",
       "    </tr>\n",
       "    <tr>\n",
       "      <th>75%</th>\n",
       "      <td>2019-06-18 16:48:00</td>\n",
       "      <td>2019-06-12 10:16:14.749999872</td>\n",
       "      <td>2019-06-19 07:40:45</td>\n",
       "      <td>0 days 02:14:46.500000</td>\n",
       "    </tr>\n",
       "    <tr>\n",
       "      <th>max</th>\n",
       "      <td>2024-07-31 18:00:00</td>\n",
       "      <td>2021-03-13 13:33:57</td>\n",
       "      <td>2021-03-13 14:14:00</td>\n",
       "      <td>1653 days 02:58:58</td>\n",
       "    </tr>\n",
       "    <tr>\n",
       "      <th>std</th>\n",
       "      <td>NaN</td>\n",
       "      <td>NaN</td>\n",
       "      <td>NaN</td>\n",
       "      <td>24 days 18:49:24.242713964</td>\n",
       "    </tr>\n",
       "  </tbody>\n",
       "</table>\n",
       "</div>"
      ],
      "text/plain": [
       "                         Target date          Date/time of creation  \\\n",
       "count                          40874                          40874   \n",
       "mean   2017-11-17 07:23:27.015396864  2017-11-13 06:58:07.295764736   \n",
       "min              2014-12-23 16:24:00            2013-11-22 08:54:34   \n",
       "25%              2016-04-11 12:18:15     2016-04-07 16:31:36.500000   \n",
       "50%              2017-09-12 18:51:30     2017-09-11 11:00:52.500000   \n",
       "75%              2019-06-18 16:48:00  2019-06-12 10:16:14.749999872   \n",
       "max              2024-07-31 18:00:00            2021-03-13 13:33:57   \n",
       "std                              NaN                            NaN   \n",
       "\n",
       "                        Closure Date             actual duration  \n",
       "count                          40874                       40874  \n",
       "mean   2017-11-16 08:10:57.436668672   3 days 01:12:50.140896412  \n",
       "min              2015-01-05 08:34:00           -1 days +21:04:19  \n",
       "25%              2016-04-11 08:32:45             0 days 00:00:20  \n",
       "50%              2017-09-12 14:50:30             0 days 00:17:24  \n",
       "75%              2019-06-19 07:40:45      0 days 02:14:46.500000  \n",
       "max              2021-03-13 14:14:00          1653 days 02:58:58  \n",
       "std                              NaN  24 days 18:49:24.242713964  "
      ]
     },
     "execution_count": 30,
     "metadata": {},
     "output_type": "execute_result"
    }
   ],
   "source": [
    "df[['Target date', 'Date/time of creation', 'Closure Date', 'actual duration']].describe(datetime_is_numeric=True)"
   ]
  },
  {
   "cell_type": "code",
   "execution_count": 56,
   "metadata": {},
   "outputs": [],
   "source": [
    "df['actual duration float'] = df['actual duration'].apply(lambda x : x.total_seconds())"
   ]
  },
  {
   "cell_type": "code",
   "execution_count": 58,
   "metadata": {},
   "outputs": [
    {
     "data": {
      "text/html": [
       "<div>\n",
       "<style scoped>\n",
       "    .dataframe tbody tr th:only-of-type {\n",
       "        vertical-align: middle;\n",
       "    }\n",
       "\n",
       "    .dataframe tbody tr th {\n",
       "        vertical-align: top;\n",
       "    }\n",
       "\n",
       "    .dataframe thead th {\n",
       "        text-align: right;\n",
       "    }\n",
       "</style>\n",
       "<table border=\"1\" class=\"dataframe\">\n",
       "  <thead>\n",
       "    <tr style=\"text-align: right;\">\n",
       "      <th></th>\n",
       "      <th>Target date</th>\n",
       "      <th>Date/time of creation</th>\n",
       "      <th>Closure Date</th>\n",
       "      <th>actual duration</th>\n",
       "      <th>actual duration float</th>\n",
       "    </tr>\n",
       "  </thead>\n",
       "  <tbody>\n",
       "    <tr>\n",
       "      <th>count</th>\n",
       "      <td>40874</td>\n",
       "      <td>40874</td>\n",
       "      <td>40874</td>\n",
       "      <td>40874</td>\n",
       "      <td>4.087400e+04</td>\n",
       "    </tr>\n",
       "    <tr>\n",
       "      <th>mean</th>\n",
       "      <td>2017-11-17 07:23:27.015396864</td>\n",
       "      <td>2017-11-13 06:58:07.295764736</td>\n",
       "      <td>2017-11-16 08:10:57.436668672</td>\n",
       "      <td>3 days 01:12:50.140896412</td>\n",
       "      <td>2.635701e+05</td>\n",
       "    </tr>\n",
       "    <tr>\n",
       "      <th>min</th>\n",
       "      <td>2014-12-23 16:24:00</td>\n",
       "      <td>2013-11-22 08:54:34</td>\n",
       "      <td>2015-01-05 08:34:00</td>\n",
       "      <td>-1 days +21:04:19</td>\n",
       "      <td>-1.054100e+04</td>\n",
       "    </tr>\n",
       "    <tr>\n",
       "      <th>25%</th>\n",
       "      <td>2016-04-11 12:18:15</td>\n",
       "      <td>2016-04-07 16:31:36.500000</td>\n",
       "      <td>2016-04-11 08:32:45</td>\n",
       "      <td>0 days 00:00:20</td>\n",
       "      <td>2.000000e+01</td>\n",
       "    </tr>\n",
       "    <tr>\n",
       "      <th>50%</th>\n",
       "      <td>2017-09-12 18:51:30</td>\n",
       "      <td>2017-09-11 11:00:52.500000</td>\n",
       "      <td>2017-09-12 14:50:30</td>\n",
       "      <td>0 days 00:17:24</td>\n",
       "      <td>1.044000e+03</td>\n",
       "    </tr>\n",
       "    <tr>\n",
       "      <th>75%</th>\n",
       "      <td>2019-06-18 16:48:00</td>\n",
       "      <td>2019-06-12 10:16:14.749999872</td>\n",
       "      <td>2019-06-19 07:40:45</td>\n",
       "      <td>0 days 02:14:46.500000</td>\n",
       "      <td>8.086500e+03</td>\n",
       "    </tr>\n",
       "    <tr>\n",
       "      <th>max</th>\n",
       "      <td>2024-07-31 18:00:00</td>\n",
       "      <td>2021-03-13 13:33:57</td>\n",
       "      <td>2021-03-13 14:14:00</td>\n",
       "      <td>1653 days 02:58:58</td>\n",
       "      <td>1.428299e+08</td>\n",
       "    </tr>\n",
       "    <tr>\n",
       "      <th>std</th>\n",
       "      <td>NaN</td>\n",
       "      <td>NaN</td>\n",
       "      <td>NaN</td>\n",
       "      <td>24 days 18:49:24.242713964</td>\n",
       "      <td>2.141364e+06</td>\n",
       "    </tr>\n",
       "  </tbody>\n",
       "</table>\n",
       "</div>"
      ],
      "text/plain": [
       "                         Target date          Date/time of creation  \\\n",
       "count                          40874                          40874   \n",
       "mean   2017-11-17 07:23:27.015396864  2017-11-13 06:58:07.295764736   \n",
       "min              2014-12-23 16:24:00            2013-11-22 08:54:34   \n",
       "25%              2016-04-11 12:18:15     2016-04-07 16:31:36.500000   \n",
       "50%              2017-09-12 18:51:30     2017-09-11 11:00:52.500000   \n",
       "75%              2019-06-18 16:48:00  2019-06-12 10:16:14.749999872   \n",
       "max              2024-07-31 18:00:00            2021-03-13 13:33:57   \n",
       "std                              NaN                            NaN   \n",
       "\n",
       "                        Closure Date             actual duration  \\\n",
       "count                          40874                       40874   \n",
       "mean   2017-11-16 08:10:57.436668672   3 days 01:12:50.140896412   \n",
       "min              2015-01-05 08:34:00           -1 days +21:04:19   \n",
       "25%              2016-04-11 08:32:45             0 days 00:00:20   \n",
       "50%              2017-09-12 14:50:30             0 days 00:17:24   \n",
       "75%              2019-06-19 07:40:45      0 days 02:14:46.500000   \n",
       "max              2021-03-13 14:14:00          1653 days 02:58:58   \n",
       "std                              NaN  24 days 18:49:24.242713964   \n",
       "\n",
       "       actual duration float  \n",
       "count           4.087400e+04  \n",
       "mean            2.635701e+05  \n",
       "min            -1.054100e+04  \n",
       "25%             2.000000e+01  \n",
       "50%             1.044000e+03  \n",
       "75%             8.086500e+03  \n",
       "max             1.428299e+08  \n",
       "std             2.141364e+06  "
      ]
     },
     "execution_count": 58,
     "metadata": {},
     "output_type": "execute_result"
    }
   ],
   "source": [
    "df[['Target date', 'Date/time of creation', 'Closure Date', 'actual duration','actual duration float']].describe(datetime_is_numeric=True)"
   ]
  },
  {
   "cell_type": "code",
   "execution_count": 83,
   "metadata": {},
   "outputs": [
    {
     "data": {
      "text/html": [
       "<div>\n",
       "<style scoped>\n",
       "    .dataframe tbody tr th:only-of-type {\n",
       "        vertical-align: middle;\n",
       "    }\n",
       "\n",
       "    .dataframe tbody tr th {\n",
       "        vertical-align: top;\n",
       "    }\n",
       "\n",
       "    .dataframe thead th {\n",
       "        text-align: right;\n",
       "    }\n",
       "</style>\n",
       "<table border=\"1\" class=\"dataframe\">\n",
       "  <thead>\n",
       "    <tr style=\"text-align: right;\">\n",
       "      <th></th>\n",
       "      <th>Target date</th>\n",
       "      <th>Date/time of creation</th>\n",
       "      <th>Closure Date</th>\n",
       "      <th>actual duration</th>\n",
       "      <th>actual duration float</th>\n",
       "    </tr>\n",
       "  </thead>\n",
       "  <tbody>\n",
       "    <tr>\n",
       "      <th>count</th>\n",
       "      <td>31022</td>\n",
       "      <td>31022</td>\n",
       "      <td>31022</td>\n",
       "      <td>31022</td>\n",
       "      <td>3.102200e+04</td>\n",
       "    </tr>\n",
       "    <tr>\n",
       "      <th>mean</th>\n",
       "      <td>2017-12-01 10:49:09.176973312</td>\n",
       "      <td>2017-11-28 06:20:39.766819584</td>\n",
       "      <td>2017-11-29 23:35:59.320224768</td>\n",
       "      <td>1 days 17:15:19.553413706</td>\n",
       "      <td>1.485196e+05</td>\n",
       "    </tr>\n",
       "    <tr>\n",
       "      <th>min</th>\n",
       "      <td>2014-12-23 16:24:00</td>\n",
       "      <td>2014-12-04 08:05:36</td>\n",
       "      <td>2015-01-05 08:53:00</td>\n",
       "      <td>0 days 00:00:01</td>\n",
       "      <td>1.000000e+00</td>\n",
       "    </tr>\n",
       "    <tr>\n",
       "      <th>25%</th>\n",
       "      <td>2016-05-03 12:48:45</td>\n",
       "      <td>2016-05-01 22:08:41.500000</td>\n",
       "      <td>2016-05-02 15:14:15</td>\n",
       "      <td>0 days 00:09:30</td>\n",
       "      <td>5.700000e+02</td>\n",
       "    </tr>\n",
       "    <tr>\n",
       "      <th>50%</th>\n",
       "      <td>2017-10-05 16:17:00</td>\n",
       "      <td>2017-10-04 09:45:01.500000</td>\n",
       "      <td>2017-10-04 13:56:30</td>\n",
       "      <td>0 days 00:38:13</td>\n",
       "      <td>2.293000e+03</td>\n",
       "    </tr>\n",
       "    <tr>\n",
       "      <th>75%</th>\n",
       "      <td>2019-06-26 11:16:00</td>\n",
       "      <td>2019-06-24 16:28:54.749999872</td>\n",
       "      <td>2019-06-26 08:44:30</td>\n",
       "      <td>0 days 12:44:04.750000</td>\n",
       "      <td>4.584475e+04</td>\n",
       "    </tr>\n",
       "    <tr>\n",
       "      <th>max</th>\n",
       "      <td>2021-05-14 19:00:00</td>\n",
       "      <td>2021-03-13 13:33:57</td>\n",
       "      <td>2021-03-13 14:14:00</td>\n",
       "      <td>49 days 22:25:37</td>\n",
       "      <td>4.314337e+06</td>\n",
       "    </tr>\n",
       "    <tr>\n",
       "      <th>std</th>\n",
       "      <td>NaN</td>\n",
       "      <td>NaN</td>\n",
       "      <td>NaN</td>\n",
       "      <td>5 days 05:12:08.900292381</td>\n",
       "      <td>4.507289e+05</td>\n",
       "    </tr>\n",
       "  </tbody>\n",
       "</table>\n",
       "</div>"
      ],
      "text/plain": [
       "                         Target date          Date/time of creation  \\\n",
       "count                          31022                          31022   \n",
       "mean   2017-12-01 10:49:09.176973312  2017-11-28 06:20:39.766819584   \n",
       "min              2014-12-23 16:24:00            2014-12-04 08:05:36   \n",
       "25%              2016-05-03 12:48:45     2016-05-01 22:08:41.500000   \n",
       "50%              2017-10-05 16:17:00     2017-10-04 09:45:01.500000   \n",
       "75%              2019-06-26 11:16:00  2019-06-24 16:28:54.749999872   \n",
       "max              2021-05-14 19:00:00            2021-03-13 13:33:57   \n",
       "std                              NaN                            NaN   \n",
       "\n",
       "                        Closure Date            actual duration  \\\n",
       "count                          31022                      31022   \n",
       "mean   2017-11-29 23:35:59.320224768  1 days 17:15:19.553413706   \n",
       "min              2015-01-05 08:53:00            0 days 00:00:01   \n",
       "25%              2016-05-02 15:14:15            0 days 00:09:30   \n",
       "50%              2017-10-04 13:56:30            0 days 00:38:13   \n",
       "75%              2019-06-26 08:44:30     0 days 12:44:04.750000   \n",
       "max              2021-03-13 14:14:00           49 days 22:25:37   \n",
       "std                              NaN  5 days 05:12:08.900292381   \n",
       "\n",
       "       actual duration float  \n",
       "count           3.102200e+04  \n",
       "mean            1.485196e+05  \n",
       "min             1.000000e+00  \n",
       "25%             5.700000e+02  \n",
       "50%             2.293000e+03  \n",
       "75%             4.584475e+04  \n",
       "max             4.314337e+06  \n",
       "std             4.507289e+05  "
      ]
     },
     "execution_count": 83,
     "metadata": {},
     "output_type": "execute_result"
    }
   ],
   "source": [
    "hoi = df[df['actual duration']>pd.Timedelta(0,'s')]\n",
    "hoi = hoi[hoi['actual duration']< pd.Timedelta(50,'d')]\n",
    "\n",
    "hoi[['Target date', 'Date/time of creation', 'Closure Date', 'actual duration','actual duration float']].describe(datetime_is_numeric=True)"
   ]
  },
  {
   "cell_type": "code",
   "execution_count": 84,
   "metadata": {},
   "outputs": [
    {
     "name": "stdout",
     "output_type": "stream",
     "text": [
      "(40874, 14)\n",
      "(31022, 14)\n"
     ]
    }
   ],
   "source": [
    "print(df.shape)\n",
    "print(hoi.shape)"
   ]
  },
  {
   "cell_type": "code",
   "execution_count": 86,
   "metadata": {},
   "outputs": [
    {
     "data": {
      "text/plain": [
       "<matplotlib.axes._subplots.AxesSubplot at 0x200745a61c0>"
      ]
     },
     "execution_count": 86,
     "metadata": {},
     "output_type": "execute_result"
    },
    {
     "data": {
      "image/png": "[encoded data removed]",
      "text/plain": [
       "<Figure size 720x432 with 1 Axes>"
      ]
     },
     "metadata": {
      "needs_background": "light"
     },
     "output_type": "display_data"
    }
   ],
   "source": [
    "hoi[['Date/time of creation','actual duration float']].plot.scatter('Date/time of creation','actual duration float')"
   ]
  },
  {
   "cell_type": "code",
   "execution_count": null,
   "metadata": {},
   "outputs": [],
   "source": []
  },
  {
   "cell_type": "code",
   "execution_count": null,
   "metadata": {},
   "outputs": [],
   "source": []
  }
 ],
 "metadata": {
  "kernelspec": {
   "display_name": "Python 3",
   "language": "python",
   "name": "python3"
  },
  "language_info": {
   "codemirror_mode": {
    "name": "ipython",
    "version": 3
   },
   "file_extension": ".py",
   "mimetype": "text/x-python",
   "name": "python",
   "nbconvert_exporter": "python",
   "pygments_lexer": "ipython3",
   "version": "3.8.3"
  }
 },
 "nbformat": 4,
 "nbformat_minor": 2
}
